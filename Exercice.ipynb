{
 "cells": [
  {
   "cell_type": "markdown",
   "id": "ea1a1943",
   "metadata": {},
   "source": [
    "## **<center><span style=\"color:red\">Petits exercices ChatGPT</span><center>**"
   ]
  },
  {
   "cell_type": "markdown",
   "id": "ad8188d0",
   "metadata": {},
   "source": [
    "**<span style=\"text-decoration:underline;color:green\">Rappel : </span>**\n",
    "<span style=\"color:lightgreen\">**range(début,fin,pas)**. Si on ne prend qu'une valeur, on aura range(fin) (interprété comme début à 0 et pas de 1).</span>"
   ]
  },
  {
   "cell_type": "markdown",
   "id": "82989d84",
   "metadata": {},
   "source": [
    "**Afficher tous les nombres de 1 à 20 inclus**"
   ]
  },
  {
   "cell_type": "code",
   "execution_count": 3,
   "id": "10c41d63",
   "metadata": {},
   "outputs": [
    {
     "name": "stdout",
     "output_type": "stream",
     "text": [
      "[1, 2, 3, 4, 5, 6, 7, 8, 9, 10, 11, 12, 13, 14, 15, 16, 17, 18, 19, 20]\n"
     ]
    }
   ],
   "source": [
    "nombres = []\n",
    "\n",
    "for i in range (1,21):\n",
    "        nombres.append(i)\n",
    "\n",
    "print(nombres)"
   ]
  },
  {
   "cell_type": "code",
   "execution_count": 2,
   "id": "3a967a1c",
   "metadata": {},
   "outputs": [
    {
     "name": "stdout",
     "output_type": "stream",
     "text": [
      "1\n",
      "2\n",
      "3\n",
      "4\n",
      "5\n",
      "6\n",
      "7\n",
      "8\n",
      "9\n",
      "10\n",
      "11\n",
      "12\n",
      "13\n",
      "14\n",
      "15\n",
      "16\n",
      "17\n",
      "18\n",
      "19\n",
      "20\n"
     ]
    }
   ],
   "source": [
    "#Façon plus simple (pas besoin de faire une liste)\n",
    "\n",
    "for i in range (1,21):\n",
    "    print(i)"
   ]
  },
  {
   "cell_type": "markdown",
   "id": "20c22553",
   "metadata": {},
   "source": [
    "**Affiche tous les multiples de 3 entre 0 et 30**"
   ]
  },
  {
   "cell_type": "code",
   "execution_count": 21,
   "id": "09cdf2ee",
   "metadata": {},
   "outputs": [
    {
     "name": "stdout",
     "output_type": "stream",
     "text": [
      "[0, 3, 6, 9, 12, 15, 18, 21, 24, 27, 30]\n"
     ]
    }
   ],
   "source": [
    "multiples_3 = []\n",
    "\n",
    "for i in range (31):\n",
    "    if i % 3 == 0:\n",
    "        multiples_3.append(i)\n",
    "    \n",
    "print(multiples_3)\n"
   ]
  },
  {
   "cell_type": "code",
   "execution_count": 84,
   "id": "783a5056",
   "metadata": {},
   "outputs": [
    {
     "name": "stdout",
     "output_type": "stream",
     "text": [
      "0\n",
      "3\n",
      "6\n",
      "9\n",
      "12\n",
      "15\n",
      "18\n",
      "21\n",
      "24\n",
      "27\n",
      "30\n"
     ]
    }
   ],
   "source": [
    "#De la même manière que précédemment : \n",
    "\n",
    "for i in range (0,31,3):\n",
    "    print(i)\n"
   ]
  },
  {
   "cell_type": "markdown",
   "id": "6ad29b9d",
   "metadata": {},
   "source": [
    "**Crée une liste contenant les carrés des nombres de 1 à 10**"
   ]
  },
  {
   "cell_type": "code",
   "execution_count": 86,
   "id": "7ec60a4b",
   "metadata": {},
   "outputs": [
    {
     "name": "stdout",
     "output_type": "stream",
     "text": [
      "[1, 4, 9, 16, 25, 36, 49, 64, 81, 100]\n"
     ]
    }
   ],
   "source": [
    "carre = []\n",
    "\n",
    "for i in range (1,11):\n",
    "    i = i**2\n",
    "    carre.append(i)\n",
    "\n",
    "print(carre)"
   ]
  },
  {
   "cell_type": "markdown",
   "id": "d7ce1bd9",
   "metadata": {},
   "source": [
    "**À partir d’une liste valeurs = [2, 5, 8, 3, 7], calcule la somme des éléments à l’aide d’une boucle**"
   ]
  },
  {
   "cell_type": "code",
   "execution_count": 87,
   "id": "372765fe",
   "metadata": {},
   "outputs": [
    {
     "name": "stdout",
     "output_type": "stream",
     "text": [
      "25\n",
      "5.0\n"
     ]
    }
   ],
   "source": [
    "valeurs = [2,5,8,3,7]\n",
    "\n",
    "#Initialisation\n",
    "i = 0\n",
    "somme = 0 \n",
    "\n",
    "while i<len(valeurs): #tant que i soit en dessous du nombre de notes\n",
    "    somme += valeurs[i] #ajouter à la somme chacune des notes\n",
    "    i += 1 #ajouter 1 à la boucle\n",
    "\n",
    "print(somme)\n",
    "\n",
    "moyenne = somme/len(valeurs)\n",
    "print(moyenne)\n"
   ]
  },
  {
   "cell_type": "code",
   "execution_count": 88,
   "id": "9e6a565e",
   "metadata": {},
   "outputs": [
    {
     "name": "stdout",
     "output_type": "stream",
     "text": [
      "25\n",
      "5.0\n"
     ]
    }
   ],
   "source": [
    "valeurs = [2,5,8,3,7]\n",
    "\n",
    "somme = 0\n",
    "\n",
    "for i in valeurs:\n",
    "    somme += i\n",
    "    moyenne=somme/len(valeurs)\n",
    "\n",
    "print(somme)\n",
    "print(moyenne)\n"
   ]
  },
  {
   "cell_type": "markdown",
   "id": "fade3cd0",
   "metadata": {},
   "source": [
    "**Demande à l’utilisateur d’entrer un nombre et affiche s’il est pair ou impair**"
   ]
  },
  {
   "cell_type": "code",
   "execution_count": 20,
   "id": "6a7bb4d9",
   "metadata": {},
   "outputs": [
    {
     "name": "stdout",
     "output_type": "stream",
     "text": [
      "Le nombre choisi est pair\n"
     ]
    }
   ],
   "source": [
    "x = int(input(\"Choisir un nombre entier\"))\n",
    "\n",
    "if x % 2 ==0:\n",
    "    print(\"Le nombre choisi est pair\")\n",
    "else:\n",
    "    print(\"Le nombre choisi est impair\")\n"
   ]
  },
  {
   "cell_type": "markdown",
   "id": "9df8b2ca",
   "metadata": {},
   "source": [
    "**À partir de valeurs = [-5, 3, -1, 0, 8, 12, -7], crée une nouvelle liste contenant uniquement les valeurs positives**"
   ]
  },
  {
   "cell_type": "code",
   "execution_count": 90,
   "id": "ec547c56",
   "metadata": {},
   "outputs": [
    {
     "name": "stdout",
     "output_type": "stream",
     "text": [
      "[3, 8, 12]\n"
     ]
    }
   ],
   "source": [
    "valeurs = [-5,3,-1,0,8,12,-7]\n",
    "valeurs_pos = []\n",
    "\n",
    "for i in valeurs:\n",
    "    if i>0:\n",
    "        valeurs_pos.append(i)\n",
    "\n",
    "print(valeurs_pos)"
   ]
  },
  {
   "cell_type": "markdown",
   "id": "20b7bfc2",
   "metadata": {},
   "source": [
    "**Calcule la moyenne des valeurs d’une liste, sans utiliser sum() ni len(), uniquement avec une boucle**"
   ]
  },
  {
   "cell_type": "code",
   "execution_count": 5,
   "id": "34f18083",
   "metadata": {},
   "outputs": [
    {
     "name": "stdout",
     "output_type": "stream",
     "text": [
      "La moyenne de l'année est : 14.92\n"
     ]
    }
   ],
   "source": [
    "maths = 18.0\n",
    "français = 12.0\n",
    "svt= 17.0\n",
    "anglais = 14.0\n",
    "histoire = 11.0\n",
    "physique = 17.5\n",
    "\n",
    "liste = [maths,français,svt,anglais,histoire,physique]\n",
    "\n",
    "i = 0\n",
    "somme = 0\n",
    "\n",
    "while i < len(liste):\n",
    "    somme = somme+liste[i]\n",
    "    i = i + 1\n",
    "\n",
    "print(\"La moyenne de l'année est :\", round(somme/len(liste), 2))"
   ]
  },
  {
   "cell_type": "code",
   "execution_count": 6,
   "id": "202bae94",
   "metadata": {},
   "outputs": [
    {
     "name": "stdout",
     "output_type": "stream",
     "text": [
      "14.92\n"
     ]
    }
   ],
   "source": [
    "maths = 18.0\n",
    "français = 12.0\n",
    "svt= 17.0\n",
    "anglais = 14.0\n",
    "histoire = 11.0\n",
    "physique = 17.5\n",
    "\n",
    "liste = [maths,français,svt,anglais,histoire,physique]\n",
    "\n",
    "somme = 0 \n",
    "\n",
    "for i in liste:\n",
    "    somme += i\n",
    "    moyenne = round(somme/len(liste), 2)\n",
    "\n",
    "print(moyenne)"
   ]
  },
  {
   "cell_type": "code",
   "execution_count": 7,
   "id": "08ebd241",
   "metadata": {},
   "outputs": [
    {
     "name": "stdout",
     "output_type": "stream",
     "text": [
      "17.0\n"
     ]
    }
   ],
   "source": [
    "a = float(input(\"Moyenne de maths :\"))\n",
    "b = float(input(\"Moyenne de français :\"))\n",
    "c = float(input(\"Moyenne de SVT :\"))\n",
    "\n",
    "notes = [a,b,c]\n",
    "\n",
    "somme = 0\n",
    "\n",
    "for i in notes:\n",
    "    somme += i\n",
    "    moyenne=round(somme/len(notes), 2)\n",
    "\n",
    "print(moyenne)"
   ]
  },
  {
   "cell_type": "markdown",
   "id": "550712b6",
   "metadata": {},
   "source": [
    "**Remplace dans une liste tous les nombres négatifs par 0**"
   ]
  },
  {
   "cell_type": "code",
   "execution_count": 50,
   "id": "ce0d1210",
   "metadata": {},
   "outputs": [
    {
     "name": "stdout",
     "output_type": "stream",
     "text": [
      "[0, 0, 7, 18, 0]\n"
     ]
    }
   ],
   "source": [
    "liste = [-1,-6,7,18,-8]\n",
    "\n",
    "liste_pos = []\n",
    "\n",
    "for i in liste:\n",
    "    if i<0:\n",
    "        liste_pos.append(0)\n",
    "    else:\n",
    "        liste_pos.append(i)\n",
    "\n",
    "\n",
    "print(liste_pos)"
   ]
  },
  {
   "cell_type": "code",
   "execution_count": 93,
   "id": "ec309a9f",
   "metadata": {},
   "outputs": [
    {
     "name": "stdout",
     "output_type": "stream",
     "text": [
      "[0, 0, 7, 18, 0]\n"
     ]
    }
   ],
   "source": [
    "liste = [-1,-6,7,18,-8]\n",
    "\n",
    "for i in range(len(liste)):\n",
    "    if liste[i]<0:\n",
    "        liste[i]=0\n",
    "\n",
    "print(liste)"
   ]
  },
  {
   "cell_type": "markdown",
   "id": "3c5bfabc",
   "metadata": {},
   "source": [
    "**Compte combien de nombres dans une liste sont supérieurs à 10**"
   ]
  },
  {
   "cell_type": "code",
   "execution_count": 52,
   "id": "01a1f1fd",
   "metadata": {},
   "outputs": [
    {
     "name": "stdout",
     "output_type": "stream",
     "text": [
      "2\n"
     ]
    }
   ],
   "source": [
    "liste = [3,9,14,17]\n",
    "\n",
    "nombre = 0\n",
    "\n",
    "for i in liste:\n",
    "    if i>10:\n",
    "        nombre += 1 \n",
    "\n",
    "print(nombre)"
   ]
  },
  {
   "cell_type": "markdown",
   "id": "32db8088",
   "metadata": {},
   "source": [
    "**Inverse une liste sans utiliser la méthode .reverse() ni les slices [::-1]**"
   ]
  },
  {
   "cell_type": "code",
   "execution_count": 64,
   "id": "0f117b74",
   "metadata": {},
   "outputs": [
    {
     "name": "stdout",
     "output_type": "stream",
     "text": [
      "[1.0, 0.5, 0.25]\n"
     ]
    }
   ],
   "source": [
    "liste = [1,2,4]\n",
    "\n",
    "liste_inverse = []\n",
    "\n",
    "for i in liste:\n",
    "    liste_inverse.append(1/i)\n",
    "\n",
    "print(liste_inverse)\n"
   ]
  },
  {
   "cell_type": "code",
   "execution_count": 2,
   "id": "9493c60f",
   "metadata": {},
   "outputs": [
    {
     "name": "stdout",
     "output_type": "stream",
     "text": [
      "[4, 2, 1]\n"
     ]
    }
   ],
   "source": [
    "#Cette fois-ci inverser dans le sens changer l'ordre :\n",
    "\n",
    "liste = [1,2,4]\n",
    "liste_inverse = []\n",
    "\n",
    "for i in range(len(liste)-1,-1,-1):\n",
    "    liste_inverse.append(liste[i])\n",
    "\n",
    "print(liste_inverse)"
   ]
  },
  {
   "cell_type": "markdown",
   "id": "e064fa08",
   "metadata": {},
   "source": [
    "**Crée une liste contenant tous les nombres entre 1 et 100 divisibles à la fois par 3 et par 5**"
   ]
  },
  {
   "cell_type": "code",
   "execution_count": null,
   "id": "5ed4590a",
   "metadata": {},
   "outputs": [
    {
     "name": "stdout",
     "output_type": "stream",
     "text": [
      "[15, 30, 45, 60, 75, 90]\n"
     ]
    }
   ],
   "source": [
    "liste = []\n",
    "\n",
    "i = 1\n",
    "\n",
    "while i<101:\n",
    "    if i % 3 == 0 and i % 5 == 0:\n",
    "        liste.append(i)\n",
    "        \n",
    "    i = i + 1\n",
    "\n",
    "print(liste)"
   ]
  },
  {
   "cell_type": "code",
   "execution_count": 5,
   "id": "99539b8d",
   "metadata": {},
   "outputs": [
    {
     "name": "stdout",
     "output_type": "stream",
     "text": [
      "[15, 30, 45, 60, 75, 90]\n"
     ]
    }
   ],
   "source": [
    "liste = []\n",
    "\n",
    "for i in range (1,101):\n",
    "    if i%3==0 and i%5==0:\n",
    "        liste.append(i)\n",
    "\n",
    "print(liste)"
   ]
  },
  {
   "cell_type": "code",
   "execution_count": 8,
   "id": "922524f1",
   "metadata": {},
   "outputs": [
    {
     "name": "stdout",
     "output_type": "stream",
     "text": [
      "[1, 2, 3, 4, 5, 6, 7, 8, 9, 10, 11, 12, 13, 14, 15, 16, 17, 18, 19, 20, 21, 22, 23, 24, 25, 26, 27, 28, 29, 30, 31, 32, 33, 34, 35, 36, 37, 38, 39, 40, 41, 42, 43, 44, 45, 46, 47, 48, 49, 50, 51, 52, 53, 54, 55, 56, 57, 58, 59, 60, 61, 62, 63, 64, 65, 66, 67, 68, 69, 70, 71, 72, 73, 74, 75, 76, 77, 78, 79, 80, 81, 82, 83, 84, 85, 86, 87, 88, 89, 90, 91, 92, 93, 94, 95, 96, 97, 98, 99, 100]\n",
      "[15, 30, 45, 60, 75, 90]\n"
     ]
    }
   ],
   "source": [
    "# En deux temps\n",
    "\n",
    "liste = []\n",
    "\n",
    "i=1\n",
    "\n",
    "while i<101:\n",
    "    liste.append(i)\n",
    "    i=i+1\n",
    "\n",
    "print(liste)\n",
    "\n",
    "newlist =[]\n",
    "for i in liste:\n",
    "    if i%3==0 and i%5==0:\n",
    "        newlist.append(i)\n",
    "\n",
    "print(newlist)"
   ]
  },
  {
   "cell_type": "markdown",
   "id": "8bdbdff6",
   "metadata": {},
   "source": [
    "**Demande à l’utilisateur de saisir des nombres un par un jusqu’à ce qu’il tape “stop”, puis affiche la moyenne**"
   ]
  },
  {
   "cell_type": "code",
   "execution_count": 10,
   "id": "4e38331e",
   "metadata": {},
   "outputs": [
    {
     "name": "stdout",
     "output_type": "stream",
     "text": [
      "Moyenne : 14.48\n"
     ]
    }
   ],
   "source": [
    "notes = []\n",
    "\n",
    "while True: #continue la boucle tant indéfinimment (continue la boucle tant que c'est vrai, ici ce sera toujours vrai puisque True)\n",
    "    val = input(\"Entrez une note (ou 'stop' pour terminer) : \")\n",
    "    if val.lower() == \"stop\": #Si la valeur est \"stop\", break\n",
    "        break #break permet de mettre fin à une boucle. Sans ça, dans ce cas de figure, elle continuerait indéfiniment.\n",
    "    notes.append(float(val))\n",
    "\n",
    "if len(notes) > 0:\n",
    "    moyenne = sum(notes) / len(notes)\n",
    "    print(\"Moyenne :\", round(moyenne, 2))\n",
    "else:\n",
    "    print(\"Aucune note saisie.\")"
   ]
  },
  {
   "cell_type": "markdown",
   "id": "e1106e55",
   "metadata": {},
   "source": [
    "**Trouve le plus grand et le plus petit nombre dans une liste, sans utiliser max() ni min()**"
   ]
  },
  {
   "cell_type": "code",
   "execution_count": null,
   "id": "2c8e7707",
   "metadata": {},
   "outputs": [],
   "source": []
  },
  {
   "cell_type": "markdown",
   "id": "1a0957e5",
   "metadata": {},
   "source": [
    "**À partir de liste = [1,2,3,2,4,3,1], crée une nouvelle liste sans doublons**"
   ]
  },
  {
   "cell_type": "code",
   "execution_count": null,
   "id": "523e301b",
   "metadata": {},
   "outputs": [],
   "source": []
  },
  {
   "cell_type": "markdown",
   "id": "61496631",
   "metadata": {},
   "source": [
    "**Transforme une liste d’angles en degrés en radians (sans utiliser NumPy)**"
   ]
  },
  {
   "cell_type": "code",
   "execution_count": null,
   "id": "5a96934e",
   "metadata": {},
   "outputs": [],
   "source": []
  },
  {
   "cell_type": "markdown",
   "id": "932cb9f9",
   "metadata": {},
   "source": [
    "**Affiche la table de multiplication d’un nombre choisi par l’utilisateur (ex. table de 7)**"
   ]
  },
  {
   "cell_type": "code",
   "execution_count": 15,
   "id": "bd4761d2",
   "metadata": {},
   "outputs": [
    {
     "name": "stdout",
     "output_type": "stream",
     "text": [
      "7x1 = 7\n",
      "7x2 = 14\n",
      "7x3 = 21\n",
      "7x4 = 28\n",
      "7x5 = 35\n",
      "7x6 = 42\n",
      "7x7 = 49\n",
      "7x8 = 56\n",
      "7x9 = 63\n"
     ]
    }
   ],
   "source": [
    "x = int(input(\"Choisir la table de multiplication\"))\n",
    "\n",
    "for i in range(1,10):\n",
    "    print(f\"{x}x{i} =\", x*i)"
   ]
  },
  {
   "cell_type": "markdown",
   "id": "e8f97007",
   "metadata": {},
   "source": [
    "**À partir d’une liste de nombres, crée deux listes : une avec les pairs, une avec les impairs**"
   ]
  },
  {
   "cell_type": "code",
   "execution_count": 16,
   "id": "4f934f1a",
   "metadata": {},
   "outputs": [
    {
     "name": "stdout",
     "output_type": "stream",
     "text": [
      "[2, 6, 24, 30]\n",
      "[1, 7, 19, 21, 39]\n"
     ]
    }
   ],
   "source": [
    "liste = [1, 2, 6, 7, 19, 21, 24, 30, 39]\n",
    "\n",
    "liste_pairs = []\n",
    "liste_impairs = []\n",
    "\n",
    "for i in liste:\n",
    "    if i % 2 == 0:\n",
    "        liste_pairs.append(i)\n",
    "    else:\n",
    "        liste_impairs.append(i)\n",
    "\n",
    "print(liste_pairs)\n",
    "print(liste_impairs)"
   ]
  },
  {
   "cell_type": "markdown",
   "id": "7206362c",
   "metadata": {},
   "source": [
    "**Crée une liste contenant la somme cumulée des valeurs d’une autre liste (par ex. [1,2,3,4] → [1,3,6,10])**"
   ]
  },
  {
   "cell_type": "code",
   "execution_count": 25,
   "id": "d002240a",
   "metadata": {},
   "outputs": [
    {
     "name": "stdout",
     "output_type": "stream",
     "text": [
      "[1, 3, 6, 10, 15, 21, 28, 36, 45, 55, 66, 78, 91, 105, 120, 136, 153, 171, 190, 210]\n"
     ]
    }
   ],
   "source": [
    "liste = []\n",
    "\n",
    "for i in range(1,21):\n",
    "    liste.append(i)\n",
    "\n",
    "cumul = []\n",
    "somme = 0\n",
    "\n",
    "for x in liste:\n",
    "    somme += x\n",
    "    cumul.append(somme)\n",
    "\n",
    "print(cumul)"
   ]
  },
  {
   "cell_type": "markdown",
   "id": "16a0ee08",
   "metadata": {},
   "source": [
    "**Choisis un nombre aléatoire entre 1 et 50**"
   ]
  },
  {
   "cell_type": "code",
   "execution_count": 3,
   "id": "5bd68e9c",
   "metadata": {},
   "outputs": [
    {
     "name": "stdout",
     "output_type": "stream",
     "text": [
      "35\n"
     ]
    }
   ],
   "source": [
    "import random\n",
    "\n",
    "print(random.randint(1,50))"
   ]
  },
  {
   "cell_type": "markdown",
   "id": "2f0ba756",
   "metadata": {},
   "source": [
    "#### **<center><span style=\"color:red\">Niveau 1</span><center>**"
   ]
  },
  {
   "cell_type": "markdown",
   "id": "4beea586",
   "metadata": {},
   "source": [
    "**1. Écrire un programme qui affiche tous les nombres pairs entre 1 et 50.**"
   ]
  },
  {
   "cell_type": "code",
   "execution_count": 5,
   "id": "5c4c9edf",
   "metadata": {},
   "outputs": [
    {
     "name": "stdout",
     "output_type": "stream",
     "text": [
      "[2, 4, 6, 8, 10, 12, 14, 16, 18, 20, 22, 24, 26, 28, 30, 32, 34, 36, 38, 40, 42, 44, 46, 48, 50]\n"
     ]
    }
   ],
   "source": [
    "pairs = []\n",
    "\n",
    "for i in range (1,51):\n",
    "    if i % 2 == 0 :\n",
    "        pairs.append(i)\n",
    "\n",
    "print(pairs)"
   ]
  },
  {
   "cell_type": "markdown",
   "id": "174e5f20",
   "metadata": {},
   "source": [
    "**2. Compter combien de nombres multiples de 7 il y a entre 1 et 100.**"
   ]
  },
  {
   "cell_type": "code",
   "execution_count": 10,
   "id": "430bf662",
   "metadata": {},
   "outputs": [
    {
     "name": "stdout",
     "output_type": "stream",
     "text": [
      "[7, 14, 21, 28, 35, 42, 49, 56, 63, 70, 77, 84, 91, 98]\n",
      "Il y a 14 multiples de 7 entre 0 et 100\n"
     ]
    }
   ],
   "source": [
    "multiples_7 = []\n",
    "\n",
    "for i in range(1,101):\n",
    "    if i % 7 == 0 : \n",
    "        multiples_7.append(i)\n",
    "\n",
    "print(multiples_7)\n",
    "print(\"Il y a\",len(multiples_7), \"multiples de 7 entre 0 et 100\")"
   ]
  },
  {
   "cell_type": "markdown",
   "id": "68a31e3b",
   "metadata": {},
   "source": [
    "**3. Créer une liste des carrés des nombres de 1 à 20.**"
   ]
  },
  {
   "cell_type": "code",
   "execution_count": 11,
   "id": "17bb576b",
   "metadata": {},
   "outputs": [
    {
     "name": "stdout",
     "output_type": "stream",
     "text": [
      "[1, 4, 9, 16, 25, 36, 49, 64, 81, 100, 121, 144, 169, 196, 225, 256, 289, 324, 361, 400]\n"
     ]
    }
   ],
   "source": [
    "carrés = []\n",
    "\n",
    "for i in range (1,21):\n",
    "    a = i**2\n",
    "    carrés.append(a)\n",
    "\n",
    "print(carrés)"
   ]
  },
  {
   "cell_type": "markdown",
   "id": "b523dcdd",
   "metadata": {},
   "source": [
    "**4. Écrire un programme qui demande un nombre à l’utilisateur et dit s’il est premier ou non.**"
   ]
  },
  {
   "cell_type": "code",
   "execution_count": 31,
   "id": "bd9dc90c",
   "metadata": {},
   "outputs": [
    {
     "name": "stdout",
     "output_type": "stream",
     "text": [
      "1 n'est pas premier.\n"
     ]
    }
   ],
   "source": [
    "n = int(input(\"Entrez un nombre : \"))\n",
    "\n",
    "if n > 1 and all(n % i != 0 for i in range(2, n)):\n",
    "    print(f\"{n} est premier !\")\n",
    "else:\n",
    "    print(f\"{n} n'est pas premier.\")"
   ]
  },
  {
   "cell_type": "markdown",
   "id": "970d975d",
   "metadata": {},
   "source": [
    "**5. Jeu simple : demander à l’utilisateur de deviner un nombre entre 1 et 20 et lui dire “plus grand / plus petit” jusqu’à ce qu’il trouve.**"
   ]
  },
  {
   "cell_type": "code",
   "execution_count": 14,
   "id": "e3428efd",
   "metadata": {},
   "outputs": [
    {
     "name": "stdout",
     "output_type": "stream",
     "text": [
      "bravo vous avez trouvé 2\n"
     ]
    }
   ],
   "source": [
    "from random import *\n",
    "\n",
    "a = randint(1,20)\n",
    "\n",
    "x = int(input(\"Choisi un nombre entre 1 et 20\"))\n",
    "\n",
    "while x != a:\n",
    "    if x>a:\n",
    "        x = int(input(\"Moins\"))\n",
    "\n",
    "    elif x<a:\n",
    "        x = int(input(\"Plus\"))\n",
    "\n",
    "print(\"bravo vous avez trouvé\", a)\n",
    "\n"
   ]
  },
  {
   "cell_type": "markdown",
   "id": "68d166dc",
   "metadata": {},
   "source": [
    "**Exercice 1: Calculer des sommes:**    \n",
    "**Écrire un programme en Python pour calculer:**    \n",
    "    *a. 1+2+3+....+100*   \n",
    "    *b. 1+3+5+....+99*"
   ]
  },
  {
   "cell_type": "code",
   "execution_count": 7,
   "id": "d33db3ea",
   "metadata": {},
   "outputs": [
    {
     "name": "stdout",
     "output_type": "stream",
     "text": [
      "5050\n",
      "2500\n"
     ]
    }
   ],
   "source": [
    "somme = 0\n",
    "for i in range(101):\n",
    "    somme += i\n",
    "\n",
    "print(somme)\n",
    "\n",
    "somme_impairs = 0\n",
    "for i in range(100):\n",
    "    if i %2 != 0:\n",
    "        somme_impairs += i\n",
    "\n",
    "print(somme_impairs)"
   ]
  },
  {
   "cell_type": "markdown",
   "id": "84462274",
   "metadata": {},
   "source": [
    "Exercice 2: Un résultat surprenant!\n",
    "On dispose d'une feuille de papier d'épaisseur 0,1 mm.\n",
    "Combien de fois doit-on la plier au minimum pour que l'épaisseur dépasse la hauteur de la tour Eiffel 324 m.\n",
    "Écrire un programme en Python pour résoudre ce problème. "
   ]
  },
  {
   "cell_type": "code",
   "execution_count": 41,
   "id": "b83f8ae9",
   "metadata": {},
   "outputs": [
    {
     "name": "stdout",
     "output_type": "stream",
     "text": [
      "Il faudra plier la feuille 22 fois pour que l'épaisseur dépasse la hauteur de la tour Eiffel\n"
     ]
    }
   ],
   "source": [
    "i = 0.1*10**-3\n",
    "a = 0\n",
    "while i<324:\n",
    "    a += 1\n",
    "    i = i*2\n",
    "\n",
    "print(\"Il faudra plier la feuille\", a, \"fois pour que l'épaisseur dépasse la hauteur de la tour Eiffel\")"
   ]
  },
  {
   "cell_type": "markdown",
   "id": "5c9dd40b",
   "metadata": {},
   "source": [
    "Exercice 3: Réviser ses tables de multiplication\n",
    "Écrire un programme en python pour réviser ses tables de multiplication.\n",
    "Le programme tire 2 entiers au hasard et demande à l'utilisateur le produit.\n",
    "On interrogera 10 fois l'utilisateur. 1 pt par bonne réponse et -1 sinon. "
   ]
  },
  {
   "cell_type": "code",
   "execution_count": 1,
   "id": "fd30a8cb",
   "metadata": {},
   "outputs": [
    {
     "name": "stdout",
     "output_type": "stream",
     "text": [
      "3 x 9\n",
      "Faux\n",
      "1 x 4\n",
      "Bravo\n",
      "2 x 1\n",
      "Bravo\n",
      "3 x 8\n",
      "Bravo\n",
      "7 x 1\n",
      "Bravo\n",
      "5 x 2\n",
      "Bravo\n",
      "6 x 1\n",
      "Bravo\n",
      "6 x 2\n",
      "Bravo\n",
      "1 x 7\n",
      "Bravo\n",
      "1 x 5\n",
      "Bravo\n",
      "Votre note est de 8 sur 10\n"
     ]
    }
   ],
   "source": [
    "import random\n",
    "\n",
    "note = 0\n",
    "\n",
    "for i in range(10):\n",
    "    entier_1 = random.randint(1,9)\n",
    "    entier_2 = random.randint(1,9)\n",
    "\n",
    "    a = entier_1*entier_2\n",
    "\n",
    "    print(entier_1, \"x\", entier_2)\n",
    "\n",
    "    x = int(input(\"Choisir la réponse\"))\n",
    "    \n",
    "    if x == a:\n",
    "        note += 1\n",
    "        print(\"Bravo\")\n",
    "    else:\n",
    "        note -= 1\n",
    "        print(\"Faux\")\n",
    "\n",
    "    i += 1\n",
    "\n",
    "print(\"Votre note est de\", note, \"sur 10\")"
   ]
  },
  {
   "cell_type": "markdown",
   "id": "d7be4cd3",
   "metadata": {},
   "source": [
    "Exercice 4: Jeu du plus ou moins  \n",
    "L'ordinateur tire un nombre entier au hasard entre 0 et 100.  \n",
    "L'utilisateur doit le trouver et pour cela propose des valeurs.\n",
    "L'ordinateur indique pour chaque valeur proposée si la valeur est trop petite, trop grande ou s'il a trouvé.  \n",
    "Écrire un programme en Python pour jouer à ce jeu. "
   ]
  },
  {
   "cell_type": "code",
   "execution_count": 2,
   "id": "2d83b90a",
   "metadata": {},
   "outputs": [
    {
     "name": "stdout",
     "output_type": "stream",
     "text": [
      "Bien joué !, vous avez trouvé le nombre : 25\n"
     ]
    }
   ],
   "source": [
    "import random \n",
    "\n",
    "nombre_aleatoire = random.randint(0,100)\n",
    "\n",
    "x = int(input(\"Choisir un nombre entre 0 et 100\"))\n",
    "\n",
    "while x != nombre_aleatoire:\n",
    "    if x > nombre_aleatoire:\n",
    "        x = int(input(\"Moins\"))\n",
    "\n",
    "    elif x < nombre_aleatoire:\n",
    "        x = int(input(\"Plus\"))\n",
    "\n",
    "print(\"Bien joué !, vous avez trouvé le nombre :\", nombre_aleatoire)"
   ]
  },
  {
   "cell_type": "markdown",
   "id": "1d656192",
   "metadata": {},
   "source": [
    "Exercice 5: Boucle imbriquée  \n",
    "Un joueur lance 10 fléchettes. Chaque fléchette rapporte 0, 20 ou 50 points selon la zone touchée.  \n",
    "Il a obtenu 300 points. Écrire un programme en Python pour trouver les différentes possibilités. "
   ]
  },
  {
   "cell_type": "code",
   "execution_count": null,
   "id": "976d27a1",
   "metadata": {},
   "outputs": [
    {
     "name": "stdout",
     "output_type": "stream",
     "text": [
      "4 0 6\n",
      "1 5 4\n"
     ]
    }
   ],
   "source": [
    "# Soient a, b, c le nombre de lancers de fléchettes rapportant respectivement 0, 20 et 50 points\n",
    "\n",
    "for b in range(11):        # b peut aller de 0 à 10\n",
    "    for c in range(11):    # c peut aller de 0 à 10\n",
    "        a = 10 - b - c\n",
    "        if a >= 0 and 20*b + 50*c == 300:\n",
    "            print(a,b,c)"
   ]
  },
  {
   "cell_type": "markdown",
   "id": "9594536e",
   "metadata": {},
   "source": [
    "Exercice 6: Boucle imbriquée - pi  \n",
    "On cherche parmi les fractions ayant un numérateur et un dénominateur à un ou deux chiffres, celle qui soit la meilleure approximation de π.  \n",
    "Écrire un programme en Python pour résoudre ce problème. "
   ]
  },
  {
   "cell_type": "code",
   "execution_count": null,
   "id": "5e73b6d9",
   "metadata": {},
   "outputs": [
    {
     "name": "stdout",
     "output_type": "stream",
     "text": [
      "0 / 1 ~ 0.0\n",
      "1 / 1 ~ 1.0\n",
      "2 / 1 ~ 2.0\n",
      "3 / 1 ~ 3.0\n",
      "13 / 4 ~ 3.25\n",
      "16 / 5 ~ 3.2\n",
      "19 / 6 ~ 3.1667\n",
      "22 / 7 ~ 3.1429\n"
     ]
    }
   ],
   "source": [
    "import math\n",
    "\n",
    "e = 10\n",
    "for a in range(0,100):\n",
    "    for b in range(1,100):\n",
    "        if abs(math.pi-(a/b))<e:\n",
    "            e=abs(math.pi-(a/b))\n",
    "\n",
    "            print(a, \"/\", b, \"~\", round(a/b, 4))"
   ]
  },
  {
   "cell_type": "code",
   "execution_count": null,
   "id": "6f067860",
   "metadata": {},
   "outputs": [
    {
     "name": "stdout",
     "output_type": "stream",
     "text": [
      "stylé\n"
     ]
    }
   ],
   "source": []
  },
  {
   "cell_type": "code",
   "execution_count": null,
   "id": "50f67cde",
   "metadata": {},
   "outputs": [],
   "source": []
  }
 ],
 "metadata": {
  "kernelspec": {
   "display_name": "3.12.3",
   "language": "python",
   "name": "python3"
  },
  "language_info": {
   "codemirror_mode": {
    "name": "ipython",
    "version": 3
   },
   "file_extension": ".py",
   "mimetype": "text/x-python",
   "name": "python",
   "nbconvert_exporter": "python",
   "pygments_lexer": "ipython3",
   "version": "3.12.3"
  }
 },
 "nbformat": 4,
 "nbformat_minor": 5
}
