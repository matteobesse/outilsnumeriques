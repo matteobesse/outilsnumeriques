{
 "cells": [
  {
   "cell_type": "code",
   "execution_count": 1,
   "id": "66f24e62-84d2-42e3-a45d-66c79351fad2",
   "metadata": {
    "editable": true,
    "slideshow": {
     "slide_type": ""
    },
    "tags": []
   },
   "outputs": [
    {
     "name": "stdout",
     "output_type": "stream",
     "text": [
      "=== Bataille navale 5x5 ===\n",
      "Un bateau est caché. Vous avez 10 coups pour le trouver.\n",
      "Entrez des coordonnées au format : ligne colonne (ex: 3 4).\n",
      "Tapez 'q' pour abandonner.\n",
      "\n"
     ]
    },
    {
     "name": "stdin",
     "output_type": "stream",
     "text": [
      "Essai #1 — Saisir 'ligne colonne' :  1\n"
     ]
    },
    {
     "name": "stdout",
     "output_type": "stream",
     "text": [
      "❌ Erreur : entrez exactement deux nombres (ex: 2 5).\n"
     ]
    },
    {
     "name": "stdin",
     "output_type": "stream",
     "text": [
      "Essai #1 — Saisir 'ligne colonne' :  2\n"
     ]
    },
    {
     "name": "stdout",
     "output_type": "stream",
     "text": [
      "❌ Erreur : entrez exactement deux nombres (ex: 2 5).\n"
     ]
    },
    {
     "name": "stdin",
     "output_type": "stream",
     "text": [
      "Essai #1 — Saisir 'ligne colonne' :  2 2\n"
     ]
    },
    {
     "name": "stdout",
     "output_type": "stream",
     "text": [
      "💧 A l’eau ! (Coups restants : 9)\n"
     ]
    },
    {
     "name": "stdin",
     "output_type": "stream",
     "text": [
      "Essai #2 — Saisir 'ligne colonne' :  2 5\n"
     ]
    },
    {
     "name": "stdout",
     "output_type": "stream",
     "text": [
      "💧 A l’eau ! (Coups restants : 8)\n"
     ]
    },
    {
     "name": "stdin",
     "output_type": "stream",
     "text": [
      "Essai #3 — Saisir 'ligne colonne' :  q\n"
     ]
    },
    {
     "name": "stdout",
     "output_type": "stream",
     "text": [
      "Partie terminée. Abandon.\n"
     ]
    }
   ],
   "source": [
    "import random\n",
    "\n",
    "# --- Paramètres du jeu ---\n",
    "TAILLE = 5          # grille 5 x 5\n",
    "COUPS_MAX = 10      # nombre d'essais autorisés\n",
    "\n",
    "# Position secrète du bateau (lignes et colonnes numérotées de 1 à 5)\n",
    "bateau_ligne = random.randint(1, TAILLE)\n",
    "bateau_col   = random.randint(1, TAILLE)\n",
    "\n",
    "print(\"=== Bataille navale 5x5 ===\")\n",
    "print(f\"Un bateau est caché. Vous avez {COUPS_MAX} coups pour le trouver.\")\n",
    "print(\"Entrez des coordonnées au format : ligne colonne (ex: 3 4).\")\n",
    "print(\"Tapez 'q' pour abandonner.\\n\")\n",
    "\n",
    "coups_restants = COUPS_MAX\n",
    "\n",
    "while coups_restants > 0:\n",
    "    saisie = input(f\"Essai #{COUPS_MAX - coups_restants + 1} — Saisir 'ligne colonne' : \").strip()\n",
    "    if saisie.lower() == \"q\":\n",
    "        print(\"Partie terminée. Abandon.\")\n",
    "        break\n",
    "\n",
    "    # Découper la saisie sur l'espace\n",
    "    parts = saisie.split()\n",
    "    if len(parts) != 2:\n",
    "        print(\"❌ Erreur : entrez exactement deux nombres (ex: 2 5).\")\n",
    "        # Coup non compté\n",
    "        continue\n",
    "\n",
    "    # Tenter de convertir en entiers\n",
    "    try:\n",
    "        ligne = int(parts[0])   # <- Exemple d'usage: var = int(input(\"Saisir un nombre : \"))\n",
    "        col   = int(parts[1])\n",
    "    except ValueError:\n",
    "        print(\"❌ Erreur : entrez des entiers (ex: 1 4).\")\n",
    "        # Coup non compté\n",
    "        continue\n",
    "\n",
    "    # Vérifier que la case est dans la grille\n",
    "    if not (1 <= ligne <= TAILLE and 1 <= col <= TAILLE):\n",
    "        print(f\"❌ Hors grille : la ligne et la colonne doivent être entre 1 et {TAILLE}.\")\n",
    "        # Coup non compté\n",
    "        continue\n",
    "\n",
    "    # Vérifier le tir\n",
    "    if ligne == bateau_ligne and col == bateau_col:\n",
    "        print(\"💥 Coulé ! Vous avez trouvé le bateau !\")\n",
    "        break\n",
    "    else:\n",
    "        coups_restants -= 1\n",
    "        print(\"💧 A l’eau !\", f\"(Coups restants : {coups_restants})\")\n",
    "\n",
    "# Si on a utilisé tous les coups sans trouver le bateau\n",
    "if coups_restants == 0:\n",
    "    print(f\"Perdu ! Le bateau était en ligne {bateau_ligne}, colonne {bateau_col}.\")\n"
   ]
  },
  {
   "cell_type": "code",
   "execution_count": null,
   "id": "97322ad2-fee0-45a3-9944-a7b0a35c69ce",
   "metadata": {
    "editable": true,
    "slideshow": {
     "slide_type": ""
    },
    "tags": []
   },
   "outputs": [],
   "source": []
  }
 ],
 "metadata": {
  "kernelspec": {
   "display_name": "Python 3 (ipykernel)",
   "language": "python",
   "name": "python3"
  },
  "language_info": {
   "codemirror_mode": {
    "name": "ipython",
    "version": 3
   },
   "file_extension": ".py",
   "mimetype": "text/x-python",
   "name": "python",
   "nbconvert_exporter": "python",
   "pygments_lexer": "ipython3",
   "version": "3.13.5"
  }
 },
 "nbformat": 4,
 "nbformat_minor": 5
}
