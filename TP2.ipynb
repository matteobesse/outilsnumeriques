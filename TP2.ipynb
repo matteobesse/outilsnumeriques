{
 "cells": [
  {
   "cell_type": "markdown",
   "id": "f5d16020",
   "metadata": {},
   "source": [
    "#### **<center><span style=\"color:orange\">M1 Géoénergies - Parcours G3</span><center>**"
   ]
  },
  {
   "cell_type": "markdown",
   "id": "22ef3758",
   "metadata": {},
   "source": [
    "## **<center><span style=\"color:red\">TP3 - Introduction aux boucles et expressions conditionnelles<center></span>**"
   ]
  },
  {
   "cell_type": "markdown",
   "id": "8b489721",
   "metadata": {},
   "source": [
    "### **<center><span style=\"color:red\">Outils numériques pour les Géosciences<center></span>**"
   ]
  },
  {
   "cell_type": "markdown",
   "id": "5d7d6262",
   "metadata": {},
   "source": [
    "##### **<center>BESSE MATTEO<center>**"
   ]
  },
  {
   "cell_type": "markdown",
   "id": "b0d101ba",
   "metadata": {},
   "source": [
    "##### <center>2025-2026<center>"
   ]
  },
  {
   "cell_type": "markdown",
   "id": "a11d5b31",
   "metadata": {},
   "source": [
    "**Exercice 1 : Utilisation de la boucle FOR et de l'expression conditionnelle IF**"
   ]
  },
  {
   "cell_type": "code",
   "execution_count": null,
   "id": "0e1a9a7f",
   "metadata": {},
   "outputs": [
    {
     "name": "stdout",
     "output_type": "stream",
     "text": [
      "[0, 2, 4, 6, 8, 10]\n",
      "[11, 13, 15, 17, 19]\n"
     ]
    }
   ],
   "source": [
    "#Initialisation des boucles vides\n",
    "\n",
    "nb_pairs_inf10 = []\n",
    "nb_impairs_sup10 = []\n",
    "\n",
    "#Boucle\n",
    "\n",
    "for i in range (21): #Parcours les nombres allant de 0 à 20\n",
    "    if i<=10 and i % 2 == 0:\n",
    "        nb_pairs_inf10.append(i)\n",
    "    elif i>10 and i % 2 != 0:\n",
    "        nb_impairs_sup10.append(i)\n",
    "\n",
    "print(nb_pairs_inf10)\n",
    "print(nb_impairs_sup10)"
   ]
  },
  {
   "cell_type": "markdown",
   "id": "c771b9f0",
   "metadata": {},
   "source": [
    "**Exercice 2 : Utilisation des boucles FOR et WHILE**"
   ]
  },
  {
   "cell_type": "code",
   "execution_count": null,
   "id": "17eb5fe3",
   "metadata": {},
   "outputs": [],
   "source": [
    "import math\n",
    "\n",
    "azm_in = [-130,190,370,225,-200,-180]\n",
    "\n",
    "azm_corrige = []\n",
    "\n",
    "for i in azm_in:\n",
    "    "
   ]
  },
  {
   "cell_type": "markdown",
   "id": "e82e8589",
   "metadata": {},
   "source": [
    "**Exercice d'application : la bataille navale simplifiée**"
   ]
  },
  {
   "cell_type": "markdown",
   "id": "261f61a0",
   "metadata": {},
   "source": []
  }
 ],
 "metadata": {
  "kernelspec": {
   "display_name": ".venv (3.12.3)",
   "language": "python",
   "name": "python3"
  },
  "language_info": {
   "codemirror_mode": {
    "name": "ipython",
    "version": 3
   },
   "file_extension": ".py",
   "mimetype": "text/x-python",
   "name": "python",
   "nbconvert_exporter": "python",
   "pygments_lexer": "ipython3",
   "version": "3.12.3"
  }
 },
 "nbformat": 4,
 "nbformat_minor": 5
}
